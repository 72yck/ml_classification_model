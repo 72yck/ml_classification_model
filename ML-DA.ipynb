{
 "cells": [
  {
   "cell_type": "markdown",
   "id": "799cf08a",
   "metadata": {},
   "source": [
    "# 21MAI0025 Y C Karthik Reddy\n",
    "# 21MAI0046 Salman Sirumavilla"
   ]
  },
  {
   "cell_type": "markdown",
   "id": "961a9290",
   "metadata": {},
   "source": [
    "# Classifiers :-\n",
    "\n",
    "## Ada Boost\n",
    "## SVC\n",
    "## K-Nearest Neighbor\n",
    "## Logistic Regression."
   ]
  },
  {
   "cell_type": "code",
   "execution_count": 1,
   "id": "7fd006b1",
   "metadata": {},
   "outputs": [],
   "source": [
    "import pandas as pd"
   ]
  },
  {
   "cell_type": "code",
   "execution_count": 2,
   "id": "26029439",
   "metadata": {},
   "outputs": [],
   "source": [
    "data=pd.read_csv(\"c:/Users/DELL/Desktop/ml/imbd.csv\")"
   ]
  },
  {
   "cell_type": "code",
   "execution_count": 3,
   "id": "066c9671",
   "metadata": {},
   "outputs": [
    {
     "data": {
      "text/html": [
       "<div>\n",
       "<style scoped>\n",
       "    .dataframe tbody tr th:only-of-type {\n",
       "        vertical-align: middle;\n",
       "    }\n",
       "\n",
       "    .dataframe tbody tr th {\n",
       "        vertical-align: top;\n",
       "    }\n",
       "\n",
       "    .dataframe thead th {\n",
       "        text-align: right;\n",
       "    }\n",
       "</style>\n",
       "<table border=\"1\" class=\"dataframe\">\n",
       "  <thead>\n",
       "    <tr style=\"text-align: right;\">\n",
       "      <th></th>\n",
       "      <th>review</th>\n",
       "      <th>sentiment</th>\n",
       "    </tr>\n",
       "  </thead>\n",
       "  <tbody>\n",
       "    <tr>\n",
       "      <th>0</th>\n",
       "      <td>One of the other reviewers has mentioned that ...</td>\n",
       "      <td>positive</td>\n",
       "    </tr>\n",
       "    <tr>\n",
       "      <th>1</th>\n",
       "      <td>A wonderful little production. &lt;br /&gt;&lt;br /&gt;The...</td>\n",
       "      <td>positive</td>\n",
       "    </tr>\n",
       "    <tr>\n",
       "      <th>2</th>\n",
       "      <td>I thought this was a wonderful way to spend ti...</td>\n",
       "      <td>positive</td>\n",
       "    </tr>\n",
       "    <tr>\n",
       "      <th>3</th>\n",
       "      <td>Basically there's a family where a little boy ...</td>\n",
       "      <td>negative</td>\n",
       "    </tr>\n",
       "    <tr>\n",
       "      <th>4</th>\n",
       "      <td>Petter Mattei's \"Love in the Time of Money\" is...</td>\n",
       "      <td>positive</td>\n",
       "    </tr>\n",
       "  </tbody>\n",
       "</table>\n",
       "</div>"
      ],
      "text/plain": [
       "                                              review sentiment\n",
       "0  One of the other reviewers has mentioned that ...  positive\n",
       "1  A wonderful little production. <br /><br />The...  positive\n",
       "2  I thought this was a wonderful way to spend ti...  positive\n",
       "3  Basically there's a family where a little boy ...  negative\n",
       "4  Petter Mattei's \"Love in the Time of Money\" is...  positive"
      ]
     },
     "execution_count": 3,
     "metadata": {},
     "output_type": "execute_result"
    }
   ],
   "source": [
    "data.head()"
   ]
  },
  {
   "cell_type": "code",
   "execution_count": 4,
   "id": "2009369e",
   "metadata": {},
   "outputs": [],
   "source": [
    "data=data[0:1000]"
   ]
  },
  {
   "cell_type": "markdown",
   "id": "238176d1",
   "metadata": {},
   "source": [
    "## Preprocessing Data"
   ]
  },
  {
   "cell_type": "code",
   "execution_count": 5,
   "id": "b26a2543",
   "metadata": {},
   "outputs": [],
   "source": [
    "from nltk.corpus import stopwords"
   ]
  },
  {
   "cell_type": "code",
   "execution_count": 6,
   "id": "81f5197c",
   "metadata": {},
   "outputs": [],
   "source": [
    "stopw=stopwords.words('english')"
   ]
  },
  {
   "cell_type": "code",
   "execution_count": 7,
   "id": "c049c1d5",
   "metadata": {},
   "outputs": [],
   "source": [
    "from nltk.tokenize import word_tokenize"
   ]
  },
  {
   "cell_type": "code",
   "execution_count": 9,
   "id": "84fd99d4",
   "metadata": {},
   "outputs": [],
   "source": [
    "for i in range(len(data)):\n",
    "    data['review'][i]=data['review'][i].lower()"
   ]
  },
  {
   "cell_type": "code",
   "execution_count": 11,
   "id": "2b497df5",
   "metadata": {},
   "outputs": [
    {
     "data": {
      "text/plain": [
       "\"one of the other reviewers has mentioned that after watching just 1 oz episode you'll be hooked. they are right, as this is exactly what happened with me.<br /><br />the first thing that struck me about oz was its brutality and unflinching scenes of violence, which set in right from the word go. trust me, this is not a show for the faint hearted or timid. this show pulls no punches with regards to drugs, sex or violence. its is hardcore, in the classic use of the word.<br /><br />it is called oz as that is the nickname given to the oswald maximum security state penitentary. it focuses mainly on emerald city, an experimental section of the prison where all the cells have glass fronts and face inwards, so privacy is not high on the agenda. em city is home to many..aryans, muslims, gangstas, latinos, christians, italians, irish and more....so scuffles, death stares, dodgy dealings and shady agreements are never far away.<br /><br />i would say the main appeal of the show is due to the fact that it goes where other shows wouldn't dare. forget pretty pictures painted for mainstream audiences, forget charm, forget romance...oz doesn't mess around. the first episode i ever saw struck me as so nasty it was surreal, i couldn't say i was ready for it, but as i watched more, i developed a taste for oz, and got accustomed to the high levels of graphic violence. not just violence, but injustice (crooked guards who'll be sold out for a nickel, inmates who'll kill on order and get away with it, well mannered, middle class inmates being turned into prison bitches due to their lack of street skills or prison experience) watching oz, you may become comfortable with what is uncomfortable viewing....thats if you can get in touch with your darker side.\""
      ]
     },
     "execution_count": 11,
     "metadata": {},
     "output_type": "execute_result"
    }
   ],
   "source": [
    "data['review'][0]"
   ]
  },
  {
   "cell_type": "code",
   "execution_count": 12,
   "id": "f6be6436",
   "metadata": {},
   "outputs": [],
   "source": [
    "import re"
   ]
  },
  {
   "cell_type": "code",
   "execution_count": 14,
   "id": "83665c03",
   "metadata": {},
   "outputs": [],
   "source": [
    "for i  in range(len(data)):\n",
    "    data['review'][i]=re.sub(\"<.*?>\",\" \",data['review'][i])\n",
    "    data['review'][i]=re.sub(r\"[^a-zA-Z0-9]\",\" \",data['review'][i])\n",
    "                             "
   ]
  },
  {
   "cell_type": "code",
   "execution_count": 15,
   "id": "e2f4d2c7",
   "metadata": {},
   "outputs": [
    {
     "data": {
      "text/plain": [
       "'one of the other reviewers has mentioned that after watching just 1 oz episode you ll be hooked  they are right  as this is exactly what happened with me   the first thing that struck me about oz was its brutality and unflinching scenes of violence  which set in right from the word go  trust me  this is not a show for the faint hearted or timid  this show pulls no punches with regards to drugs  sex or violence  its is hardcore  in the classic use of the word   it is called oz as that is the nickname given to the oswald maximum security state penitentary  it focuses mainly on emerald city  an experimental section of the prison where all the cells have glass fronts and face inwards  so privacy is not high on the agenda  em city is home to many  aryans  muslims  gangstas  latinos  christians  italians  irish and more    so scuffles  death stares  dodgy dealings and shady agreements are never far away   i would say the main appeal of the show is due to the fact that it goes where other shows wouldn t dare  forget pretty pictures painted for mainstream audiences  forget charm  forget romance   oz doesn t mess around  the first episode i ever saw struck me as so nasty it was surreal  i couldn t say i was ready for it  but as i watched more  i developed a taste for oz  and got accustomed to the high levels of graphic violence  not just violence  but injustice  crooked guards who ll be sold out for a nickel  inmates who ll kill on order and get away with it  well mannered  middle class inmates being turned into prison bitches due to their lack of street skills or prison experience  watching oz  you may become comfortable with what is uncomfortable viewing    thats if you can get in touch with your darker side '"
      ]
     },
     "execution_count": 15,
     "metadata": {},
     "output_type": "execute_result"
    }
   ],
   "source": [
    "data['review'][0]"
   ]
  },
  {
   "cell_type": "code",
   "execution_count": 17,
   "id": "3c273e71",
   "metadata": {},
   "outputs": [
    {
     "data": {
      "text/plain": [
       "(1000, 2)"
      ]
     },
     "execution_count": 17,
     "metadata": {},
     "output_type": "execute_result"
    }
   ],
   "source": [
    "data.shape"
   ]
  },
  {
   "cell_type": "code",
   "execution_count": 18,
   "id": "df50730f",
   "metadata": {},
   "outputs": [
    {
     "data": {
      "text/plain": [
       "Index(['review', 'sentiment'], dtype='object')"
      ]
     },
     "execution_count": 18,
     "metadata": {},
     "output_type": "execute_result"
    }
   ],
   "source": [
    "data.columns"
   ]
  },
  {
   "cell_type": "code",
   "execution_count": 19,
   "id": "4026bae4",
   "metadata": {},
   "outputs": [],
   "source": [
    "X=data['review']\n",
    "y=data['sentiment']"
   ]
  },
  {
   "cell_type": "markdown",
   "id": "dc6e39ca",
   "metadata": {},
   "source": [
    "## Splitting dataset"
   ]
  },
  {
   "cell_type": "code",
   "execution_count": 20,
   "id": "8b7d3ac1",
   "metadata": {},
   "outputs": [],
   "source": [
    "from sklearn.model_selection import train_test_split\n",
    "X_train, X_test, y_train, y_test=train_test_split(X, y, stratify=y, random_state=42)"
   ]
  },
  {
   "cell_type": "code",
   "execution_count": 21,
   "id": "cdeaf262",
   "metadata": {},
   "outputs": [
    {
     "data": {
      "text/plain": [
       "((750,), (250,), (750,), (250,))"
      ]
     },
     "execution_count": 21,
     "metadata": {},
     "output_type": "execute_result"
    }
   ],
   "source": [
    "X_train.shape, X_test.shape, y_train.shape, y_test.shape"
   ]
  },
  {
   "cell_type": "markdown",
   "id": "d3a58b3c",
   "metadata": {},
   "source": [
    "## Tfidf Vectorizer"
   ]
  },
  {
   "cell_type": "code",
   "execution_count": 22,
   "id": "5376a563",
   "metadata": {},
   "outputs": [],
   "source": [
    "from sklearn.feature_extraction.text import TfidfVectorizer\n",
    "from sklearn.preprocessing import LabelEncoder"
   ]
  },
  {
   "cell_type": "code",
   "execution_count": 23,
   "id": "435f1268",
   "metadata": {},
   "outputs": [],
   "source": [
    "vect=TfidfVectorizer()\n",
    "X_train=vect.fit_transform(X_train)"
   ]
  },
  {
   "cell_type": "code",
   "execution_count": 27,
   "id": "7c47ab4e",
   "metadata": {},
   "outputs": [],
   "source": [
    "X_test=vect.transform(X_test)"
   ]
  },
  {
   "cell_type": "code",
   "execution_count": 28,
   "id": "1ec986f4",
   "metadata": {},
   "outputs": [
    {
     "data": {
      "text/plain": [
       "((750, 15422), (250, 15422))"
      ]
     },
     "execution_count": 28,
     "metadata": {},
     "output_type": "execute_result"
    }
   ],
   "source": [
    "X_train.shape, X_test.shape"
   ]
  },
  {
   "cell_type": "code",
   "execution_count": 29,
   "id": "e5091c06",
   "metadata": {},
   "outputs": [
    {
     "data": {
      "text/plain": [
       "matrix([[0., 0., 0., ..., 0., 0., 0.]])"
      ]
     },
     "execution_count": 29,
     "metadata": {},
     "output_type": "execute_result"
    }
   ],
   "source": [
    "X_train[0].todense()"
   ]
  },
  {
   "cell_type": "code",
   "execution_count": 30,
   "id": "a9369b50",
   "metadata": {},
   "outputs": [],
   "source": [
    "la=LabelEncoder()\n",
    "y_train=la.fit_transform(y_train)\n",
    "y_test=la.transform(y_test)"
   ]
  },
  {
   "cell_type": "markdown",
   "id": "d15ad3f5",
   "metadata": {},
   "source": [
    "## Random Forest Hyper Parameter Tuning"
   ]
  },
  {
   "cell_type": "code",
   "execution_count": 31,
   "id": "7d15bd36",
   "metadata": {},
   "outputs": [],
   "source": [
    "from sklearn.ensemble import RandomForestClassifier\n",
    "from sklearn.model_selection import GridSearchCV"
   ]
  },
  {
   "cell_type": "code",
   "execution_count": 32,
   "id": "630ef04a",
   "metadata": {},
   "outputs": [],
   "source": [
    "search = GridSearchCV(estimator=RandomForestClassifier(),param_grid={'n_estimators': [50, 100, 200, 500], 'criterion':[\"gini\", \"entropy\"]}, scoring=[\"accuracy\"], refit=False, return_train_score=True)"
   ]
  },
  {
   "cell_type": "code",
   "execution_count": 33,
   "id": "4ac258eb",
   "metadata": {},
   "outputs": [
    {
     "data": {
      "text/plain": [
       "GridSearchCV(estimator=RandomForestClassifier(),\n",
       "             param_grid={'criterion': ['gini', 'entropy'],\n",
       "                         'n_estimators': [50, 100, 200, 500]},\n",
       "             refit=False, return_train_score=True, scoring=['accuracy'])"
      ]
     },
     "execution_count": 33,
     "metadata": {},
     "output_type": "execute_result"
    }
   ],
   "source": [
    "search.fit(X_train, y_train)"
   ]
  },
  {
   "cell_type": "code",
   "execution_count": 34,
   "id": "47dcba87",
   "metadata": {},
   "outputs": [
    {
     "data": {
      "text/plain": [
       "{'mean_fit_time': array([0.25632305, 0.45733199, 0.95182247, 2.55583949, 0.24111199,\n",
       "        0.46827602, 0.93452368, 2.58281646]),\n",
       " 'std_fit_time': array([0.02425448, 0.04971309, 0.10265477, 0.16347654, 0.01939253,\n",
       "        0.01148602, 0.01003987, 0.41569561]),\n",
       " 'mean_score_time': array([0.01579452, 0.01461277, 0.03690929, 0.08511052, 0.00939155,\n",
       "        0.0143425 , 0.01875482, 0.08430033]),\n",
       " 'std_score_time': array([0.0099092 , 0.00838031, 0.00791742, 0.01539505, 0.00766825,\n",
       "        0.00310431, 0.006242  , 0.0102297 ]),\n",
       " 'param_criterion': masked_array(data=['gini', 'gini', 'gini', 'gini', 'entropy', 'entropy',\n",
       "                    'entropy', 'entropy'],\n",
       "              mask=[False, False, False, False, False, False, False, False],\n",
       "        fill_value='?',\n",
       "             dtype=object),\n",
       " 'param_n_estimators': masked_array(data=[50, 100, 200, 500, 50, 100, 200, 500],\n",
       "              mask=[False, False, False, False, False, False, False, False],\n",
       "        fill_value='?',\n",
       "             dtype=object),\n",
       " 'params': [{'criterion': 'gini', 'n_estimators': 50},\n",
       "  {'criterion': 'gini', 'n_estimators': 100},\n",
       "  {'criterion': 'gini', 'n_estimators': 200},\n",
       "  {'criterion': 'gini', 'n_estimators': 500},\n",
       "  {'criterion': 'entropy', 'n_estimators': 50},\n",
       "  {'criterion': 'entropy', 'n_estimators': 100},\n",
       "  {'criterion': 'entropy', 'n_estimators': 200},\n",
       "  {'criterion': 'entropy', 'n_estimators': 500}],\n",
       " 'split0_test_accuracy': array([0.65333333, 0.74      , 0.73333333, 0.74666667, 0.70666667,\n",
       "        0.73333333, 0.73333333, 0.73333333]),\n",
       " 'split1_test_accuracy': array([0.74      , 0.74      , 0.75333333, 0.80666667, 0.74      ,\n",
       "        0.78666667, 0.78      , 0.81333333]),\n",
       " 'split2_test_accuracy': array([0.76666667, 0.81333333, 0.78      , 0.82      , 0.80666667,\n",
       "        0.80666667, 0.82      , 0.80666667]),\n",
       " 'split3_test_accuracy': array([0.74      , 0.69333333, 0.75333333, 0.78      , 0.70666667,\n",
       "        0.78666667, 0.78      , 0.77333333]),\n",
       " 'split4_test_accuracy': array([0.73333333, 0.76      , 0.79333333, 0.79333333, 0.74      ,\n",
       "        0.74666667, 0.8       , 0.78666667]),\n",
       " 'mean_test_accuracy': array([0.72666667, 0.74933333, 0.76266667, 0.78933333, 0.74      ,\n",
       "        0.772     , 0.78266667, 0.78266667]),\n",
       " 'std_test_accuracy': array([0.03841296, 0.03878144, 0.02133333, 0.02515728, 0.03651484,\n",
       "        0.02745501, 0.02878271, 0.02847221]),\n",
       " 'rank_test_accuracy': array([8, 6, 5, 1, 7, 4, 3, 2]),\n",
       " 'split0_train_accuracy': array([1., 1., 1., 1., 1., 1., 1., 1.]),\n",
       " 'split1_train_accuracy': array([1., 1., 1., 1., 1., 1., 1., 1.]),\n",
       " 'split2_train_accuracy': array([1., 1., 1., 1., 1., 1., 1., 1.]),\n",
       " 'split3_train_accuracy': array([1., 1., 1., 1., 1., 1., 1., 1.]),\n",
       " 'split4_train_accuracy': array([1., 1., 1., 1., 1., 1., 1., 1.]),\n",
       " 'mean_train_accuracy': array([1., 1., 1., 1., 1., 1., 1., 1.]),\n",
       " 'std_train_accuracy': array([0., 0., 0., 0., 0., 0., 0., 0.])}"
      ]
     },
     "execution_count": 34,
     "metadata": {},
     "output_type": "execute_result"
    }
   ],
   "source": [
    "search.cv_results_"
   ]
  },
  {
   "cell_type": "code",
   "execution_count": 35,
   "id": "6cd794ad",
   "metadata": {},
   "outputs": [
    {
     "data": {
      "text/plain": [
       "<bound method BaseEstimator.get_params of GridSearchCV(estimator=RandomForestClassifier(),\n",
       "             param_grid={'criterion': ['gini', 'entropy'],\n",
       "                         'n_estimators': [50, 100, 200, 500]},\n",
       "             refit=False, return_train_score=True, scoring=['accuracy'])>"
      ]
     },
     "execution_count": 35,
     "metadata": {},
     "output_type": "execute_result"
    }
   ],
   "source": [
    "search.get_params"
   ]
  },
  {
   "cell_type": "code",
   "execution_count": 36,
   "id": "4ca457b3",
   "metadata": {},
   "outputs": [],
   "source": [
    "rf=RandomForestClassifier(criterion=\"entropy\", n_estimators=200)"
   ]
  },
  {
   "cell_type": "code",
   "execution_count": 37,
   "id": "764a1ba3",
   "metadata": {},
   "outputs": [
    {
     "data": {
      "text/plain": [
       "RandomForestClassifier(criterion='entropy', n_estimators=200)"
      ]
     },
     "execution_count": 37,
     "metadata": {},
     "output_type": "execute_result"
    }
   ],
   "source": [
    "rf.fit(X_train, y_train)"
   ]
  },
  {
   "cell_type": "code",
   "execution_count": 38,
   "id": "88171eb2",
   "metadata": {},
   "outputs": [],
   "source": [
    "y_train_pred=rf.predict(X_train)"
   ]
  },
  {
   "cell_type": "code",
   "execution_count": 39,
   "id": "49f60c52",
   "metadata": {},
   "outputs": [],
   "source": [
    "y_test_pred=rf.predict(X_test)"
   ]
  },
  {
   "cell_type": "markdown",
   "id": "f8cd4363",
   "metadata": {},
   "source": [
    "## Model Evaluation"
   ]
  },
  {
   "cell_type": "code",
   "execution_count": 40,
   "id": "be088ca3",
   "metadata": {},
   "outputs": [
    {
     "data": {
      "text/plain": [
       "<AxesSubplot:>"
      ]
     },
     "execution_count": 40,
     "metadata": {},
     "output_type": "execute_result"
    },
    {
     "data": {
      "image/png": "[encoded data removed]",
      "text/plain": [
       "<Figure size 432x288 with 2 Axes>"
      ]
     },
     "metadata": {
      "needs_background": "light"
     },
     "output_type": "display_data"
    }
   ],
   "source": [
    "from sklearn.metrics import confusion_matrix\n",
    "import seaborn as sns\n",
    "cm=confusion_matrix(y_train, y_train_pred)\n",
    "sns.heatmap(cm, annot=True, cmap='Blues', fmt='g')"
   ]
  },
  {
   "cell_type": "code",
   "execution_count": 41,
   "id": "423e4b6a",
   "metadata": {},
   "outputs": [
    {
     "data": {
      "text/plain": [
       "<AxesSubplot:>"
      ]
     },
     "execution_count": 41,
     "metadata": {},
     "output_type": "execute_result"
    },
    {
     "data": {
      "image/png": "[encoded data removed]",
      "text/plain": [
       "<Figure size 432x288 with 2 Axes>"
      ]
     },
     "metadata": {
      "needs_background": "light"
     },
     "output_type": "display_data"
    }
   ],
   "source": [
    "import seaborn as sns\n",
    "from sklearn.metrics import confusion_matrix\n",
    "cm=confusion_matrix(y_test, y_test_pred)\n",
    "sns.heatmap(cm, annot=True, cmap='Blues', fmt='g')"
   ]
  },
  {
   "cell_type": "code",
   "execution_count": 42,
   "id": "2754962b",
   "metadata": {},
   "outputs": [
    {
     "name": "stdout",
     "output_type": "stream",
     "text": [
      "              precision    recall  f1-score   support\n",
      "\n",
      "           0       0.83      0.86      0.84       125\n",
      "           1       0.85      0.82      0.84       125\n",
      "\n",
      "    accuracy                           0.84       250\n",
      "   macro avg       0.84      0.84      0.84       250\n",
      "weighted avg       0.84      0.84      0.84       250\n",
      "\n"
     ]
    }
   ],
   "source": [
    "from sklearn.metrics import classification_report\n",
    "print(classification_report(y_test, y_test_pred))"
   ]
  },
  {
   "cell_type": "markdown",
   "id": "7fe02ebf",
   "metadata": {},
   "source": [
    "## SVC"
   ]
  },
  {
   "cell_type": "code",
   "execution_count": 43,
   "id": "b53cdac9",
   "metadata": {},
   "outputs": [],
   "source": [
    "from sklearn.model_selection import GridSearchCV\n",
    "from sklearn.svm import SVC"
   ]
  },
  {
   "cell_type": "code",
   "execution_count": 44,
   "id": "d8a72967",
   "metadata": {},
   "outputs": [],
   "source": [
    "param_grid = {'C': [0.1, 1, 10, 100, 1000],'gamma': [1, 0.1, 0.01, 0.001, 0.0001],'kernel': ['rbf']}\n",
    "\n",
    "grid = GridSearchCV(SVC(), param_grid, refit = True, verbose = 3)"
   ]
  },
  {
   "cell_type": "code",
   "execution_count": 45,
   "id": "d86b5ecf",
   "metadata": {},
   "outputs": [
    {
     "name": "stdout",
     "output_type": "stream",
     "text": [
      "Fitting 5 folds for each of 25 candidates, totalling 125 fits\n",
      "[CV 1/5] END .....................C=0.1, gamma=1, kernel=rbf; total time=   0.5s\n",
      "[CV 2/5] END .....................C=0.1, gamma=1, kernel=rbf; total time=   0.5s\n",
      "[CV 3/5] END .....................C=0.1, gamma=1, kernel=rbf; total time=   0.5s\n",
      "[CV 4/5] END .....................C=0.1, gamma=1, kernel=rbf; total time=   0.4s\n",
      "[CV 5/5] END .....................C=0.1, gamma=1, kernel=rbf; total time=   0.4s\n",
      "[CV 1/5] END ...................C=0.1, gamma=0.1, kernel=rbf; total time=   0.5s\n",
      "[CV 2/5] END ...................C=0.1, gamma=0.1, kernel=rbf; total time=   0.6s\n",
      "[CV 3/5] END ...................C=0.1, gamma=0.1, kernel=rbf; total time=   0.6s\n",
      "[CV 4/5] END ...................C=0.1, gamma=0.1, kernel=rbf; total time=   0.4s\n",
      "[CV 5/5] END ...................C=0.1, gamma=0.1, kernel=rbf; total time=   0.4s\n",
      "[CV 1/5] END ..................C=0.1, gamma=0.01, kernel=rbf; total time=   0.5s\n",
      "[CV 2/5] END ..................C=0.1, gamma=0.01, kernel=rbf; total time=   0.5s\n",
      "[CV 3/5] END ..................C=0.1, gamma=0.01, kernel=rbf; total time=   0.5s\n",
      "[CV 4/5] END ..................C=0.1, gamma=0.01, kernel=rbf; total time=   0.5s\n",
      "[CV 5/5] END ..................C=0.1, gamma=0.01, kernel=rbf; total time=   0.4s\n",
      "[CV 1/5] END .................C=0.1, gamma=0.001, kernel=rbf; total time=   0.5s\n",
      "[CV 2/5] END .................C=0.1, gamma=0.001, kernel=rbf; total time=   0.4s\n",
      "[CV 3/5] END .................C=0.1, gamma=0.001, kernel=rbf; total time=   0.6s\n",
      "[CV 4/5] END .................C=0.1, gamma=0.001, kernel=rbf; total time=   0.6s\n",
      "[CV 5/5] END .................C=0.1, gamma=0.001, kernel=rbf; total time=   0.6s\n",
      "[CV 1/5] END ................C=0.1, gamma=0.0001, kernel=rbf; total time=   0.6s\n",
      "[CV 2/5] END ................C=0.1, gamma=0.0001, kernel=rbf; total time=   0.5s\n",
      "[CV 3/5] END ................C=0.1, gamma=0.0001, kernel=rbf; total time=   0.5s\n",
      "[CV 4/5] END ................C=0.1, gamma=0.0001, kernel=rbf; total time=   0.5s\n",
      "[CV 5/5] END ................C=0.1, gamma=0.0001, kernel=rbf; total time=   0.5s\n",
      "[CV 1/5] END .......................C=1, gamma=1, kernel=rbf; total time=   0.5s\n",
      "[CV 2/5] END .......................C=1, gamma=1, kernel=rbf; total time=   0.6s\n",
      "[CV 3/5] END .......................C=1, gamma=1, kernel=rbf; total time=   0.8s\n",
      "[CV 4/5] END .......................C=1, gamma=1, kernel=rbf; total time=   0.5s\n",
      "[CV 5/5] END .......................C=1, gamma=1, kernel=rbf; total time=   0.6s\n",
      "[CV 1/5] END .....................C=1, gamma=0.1, kernel=rbf; total time=   0.5s\n",
      "[CV 2/5] END .....................C=1, gamma=0.1, kernel=rbf; total time=   0.5s\n",
      "[CV 3/5] END .....................C=1, gamma=0.1, kernel=rbf; total time=   0.6s\n",
      "[CV 4/5] END .....................C=1, gamma=0.1, kernel=rbf; total time=   0.5s\n",
      "[CV 5/5] END .....................C=1, gamma=0.1, kernel=rbf; total time=   0.5s\n",
      "[CV 1/5] END ....................C=1, gamma=0.01, kernel=rbf; total time=   0.5s\n",
      "[CV 2/5] END ....................C=1, gamma=0.01, kernel=rbf; total time=   0.4s\n",
      "[CV 3/5] END ....................C=1, gamma=0.01, kernel=rbf; total time=   0.5s\n",
      "[CV 4/5] END ....................C=1, gamma=0.01, kernel=rbf; total time=   0.4s\n",
      "[CV 5/5] END ....................C=1, gamma=0.01, kernel=rbf; total time=   0.5s\n",
      "[CV 1/5] END ...................C=1, gamma=0.001, kernel=rbf; total time=   0.5s\n",
      "[CV 2/5] END ...................C=1, gamma=0.001, kernel=rbf; total time=   0.6s\n",
      "[CV 3/5] END ...................C=1, gamma=0.001, kernel=rbf; total time=   0.5s\n",
      "[CV 4/5] END ...................C=1, gamma=0.001, kernel=rbf; total time=   0.5s\n",
      "[CV 5/5] END ...................C=1, gamma=0.001, kernel=rbf; total time=   0.5s\n",
      "[CV 1/5] END ..................C=1, gamma=0.0001, kernel=rbf; total time=   0.5s\n",
      "[CV 2/5] END ..................C=1, gamma=0.0001, kernel=rbf; total time=   0.4s\n",
      "[CV 3/5] END ..................C=1, gamma=0.0001, kernel=rbf; total time=   0.4s\n",
      "[CV 4/5] END ..................C=1, gamma=0.0001, kernel=rbf; total time=   0.6s\n",
      "[CV 5/5] END ..................C=1, gamma=0.0001, kernel=rbf; total time=   0.5s\n",
      "[CV 1/5] END ......................C=10, gamma=1, kernel=rbf; total time=   0.4s\n",
      "[CV 2/5] END ......................C=10, gamma=1, kernel=rbf; total time=   0.5s\n",
      "[CV 3/5] END ......................C=10, gamma=1, kernel=rbf; total time=   0.8s\n",
      "[CV 4/5] END ......................C=10, gamma=1, kernel=rbf; total time=   0.7s\n",
      "[CV 5/5] END ......................C=10, gamma=1, kernel=rbf; total time=   0.5s\n",
      "[CV 1/5] END ....................C=10, gamma=0.1, kernel=rbf; total time=   0.5s\n",
      "[CV 2/5] END ....................C=10, gamma=0.1, kernel=rbf; total time=   0.5s\n",
      "[CV 3/5] END ....................C=10, gamma=0.1, kernel=rbf; total time=   0.6s\n",
      "[CV 4/5] END ....................C=10, gamma=0.1, kernel=rbf; total time=   0.5s\n",
      "[CV 5/5] END ....................C=10, gamma=0.1, kernel=rbf; total time=   0.5s\n",
      "[CV 1/5] END ...................C=10, gamma=0.01, kernel=rbf; total time=   0.5s\n",
      "[CV 2/5] END ...................C=10, gamma=0.01, kernel=rbf; total time=   0.6s\n",
      "[CV 3/5] END ...................C=10, gamma=0.01, kernel=rbf; total time=   0.6s\n",
      "[CV 4/5] END ...................C=10, gamma=0.01, kernel=rbf; total time=   0.5s\n",
      "[CV 5/5] END ...................C=10, gamma=0.01, kernel=rbf; total time=   0.5s\n",
      "[CV 1/5] END ..................C=10, gamma=0.001, kernel=rbf; total time=   0.4s\n",
      "[CV 2/5] END ..................C=10, gamma=0.001, kernel=rbf; total time=   0.4s\n",
      "[CV 3/5] END ..................C=10, gamma=0.001, kernel=rbf; total time=   0.5s\n",
      "[CV 4/5] END ..................C=10, gamma=0.001, kernel=rbf; total time=   0.5s\n",
      "[CV 5/5] END ..................C=10, gamma=0.001, kernel=rbf; total time=   0.5s\n",
      "[CV 1/5] END .................C=10, gamma=0.0001, kernel=rbf; total time=   0.4s\n",
      "[CV 2/5] END .................C=10, gamma=0.0001, kernel=rbf; total time=   0.5s\n",
      "[CV 3/5] END .................C=10, gamma=0.0001, kernel=rbf; total time=   0.5s\n",
      "[CV 4/5] END .................C=10, gamma=0.0001, kernel=rbf; total time=   0.6s\n",
      "[CV 5/5] END .................C=10, gamma=0.0001, kernel=rbf; total time=   0.5s\n",
      "[CV 1/5] END .....................C=100, gamma=1, kernel=rbf; total time=   0.5s\n",
      "[CV 2/5] END .....................C=100, gamma=1, kernel=rbf; total time=   0.6s\n",
      "[CV 3/5] END .....................C=100, gamma=1, kernel=rbf; total time=   0.6s\n",
      "[CV 4/5] END .....................C=100, gamma=1, kernel=rbf; total time=   0.5s\n",
      "[CV 5/5] END .....................C=100, gamma=1, kernel=rbf; total time=   0.4s\n",
      "[CV 1/5] END ...................C=100, gamma=0.1, kernel=rbf; total time=   0.7s\n",
      "[CV 2/5] END ...................C=100, gamma=0.1, kernel=rbf; total time=   0.6s\n",
      "[CV 3/5] END ...................C=100, gamma=0.1, kernel=rbf; total time=   0.5s\n",
      "[CV 4/5] END ...................C=100, gamma=0.1, kernel=rbf; total time=   0.5s\n",
      "[CV 5/5] END ...................C=100, gamma=0.1, kernel=rbf; total time=   0.5s\n",
      "[CV 1/5] END ..................C=100, gamma=0.01, kernel=rbf; total time=   0.5s\n",
      "[CV 2/5] END ..................C=100, gamma=0.01, kernel=rbf; total time=   0.4s\n",
      "[CV 3/5] END ..................C=100, gamma=0.01, kernel=rbf; total time=   0.4s\n",
      "[CV 4/5] END ..................C=100, gamma=0.01, kernel=rbf; total time=   0.4s\n",
      "[CV 5/5] END ..................C=100, gamma=0.01, kernel=rbf; total time=   0.4s\n",
      "[CV 1/5] END .................C=100, gamma=0.001, kernel=rbf; total time=   0.5s\n",
      "[CV 2/5] END .................C=100, gamma=0.001, kernel=rbf; total time=   0.6s\n",
      "[CV 3/5] END .................C=100, gamma=0.001, kernel=rbf; total time=   0.5s\n",
      "[CV 4/5] END .................C=100, gamma=0.001, kernel=rbf; total time=   0.5s\n",
      "[CV 5/5] END .................C=100, gamma=0.001, kernel=rbf; total time=   0.6s\n",
      "[CV 1/5] END ................C=100, gamma=0.0001, kernel=rbf; total time=   0.5s\n",
      "[CV 2/5] END ................C=100, gamma=0.0001, kernel=rbf; total time=   0.6s\n",
      "[CV 3/5] END ................C=100, gamma=0.0001, kernel=rbf; total time=   0.5s\n",
      "[CV 4/5] END ................C=100, gamma=0.0001, kernel=rbf; total time=   0.5s\n",
      "[CV 5/5] END ................C=100, gamma=0.0001, kernel=rbf; total time=   0.5s\n",
      "[CV 1/5] END ....................C=1000, gamma=1, kernel=rbf; total time=   0.5s\n"
     ]
    },
    {
     "name": "stdout",
     "output_type": "stream",
     "text": [
      "[CV 2/5] END ....................C=1000, gamma=1, kernel=rbf; total time=   0.5s\n",
      "[CV 3/5] END ....................C=1000, gamma=1, kernel=rbf; total time=   0.5s\n",
      "[CV 4/5] END ....................C=1000, gamma=1, kernel=rbf; total time=   0.4s\n",
      "[CV 5/5] END ....................C=1000, gamma=1, kernel=rbf; total time=   0.4s\n",
      "[CV 1/5] END ..................C=1000, gamma=0.1, kernel=rbf; total time=   0.4s\n",
      "[CV 2/5] END ..................C=1000, gamma=0.1, kernel=rbf; total time=   0.4s\n",
      "[CV 3/5] END ..................C=1000, gamma=0.1, kernel=rbf; total time=   0.4s\n",
      "[CV 4/5] END ..................C=1000, gamma=0.1, kernel=rbf; total time=   0.4s\n",
      "[CV 5/5] END ..................C=1000, gamma=0.1, kernel=rbf; total time=   0.4s\n",
      "[CV 1/5] END .................C=1000, gamma=0.01, kernel=rbf; total time=   0.4s\n",
      "[CV 2/5] END .................C=1000, gamma=0.01, kernel=rbf; total time=   0.4s\n",
      "[CV 3/5] END .................C=1000, gamma=0.01, kernel=rbf; total time=   0.4s\n",
      "[CV 4/5] END .................C=1000, gamma=0.01, kernel=rbf; total time=   0.4s\n",
      "[CV 5/5] END .................C=1000, gamma=0.01, kernel=rbf; total time=   0.5s\n",
      "[CV 1/5] END ................C=1000, gamma=0.001, kernel=rbf; total time=   0.5s\n",
      "[CV 2/5] END ................C=1000, gamma=0.001, kernel=rbf; total time=   0.5s\n",
      "[CV 3/5] END ................C=1000, gamma=0.001, kernel=rbf; total time=   0.4s\n",
      "[CV 4/5] END ................C=1000, gamma=0.001, kernel=rbf; total time=   0.5s\n",
      "[CV 5/5] END ................C=1000, gamma=0.001, kernel=rbf; total time=   0.4s\n",
      "[CV 1/5] END ...............C=1000, gamma=0.0001, kernel=rbf; total time=   0.4s\n",
      "[CV 2/5] END ...............C=1000, gamma=0.0001, kernel=rbf; total time=   0.4s\n",
      "[CV 3/5] END ...............C=1000, gamma=0.0001, kernel=rbf; total time=   0.5s\n",
      "[CV 4/5] END ...............C=1000, gamma=0.0001, kernel=rbf; total time=   0.5s\n",
      "[CV 5/5] END ...............C=1000, gamma=0.0001, kernel=rbf; total time=   0.5s\n"
     ]
    },
    {
     "data": {
      "text/plain": [
       "GridSearchCV(estimator=SVC(),\n",
       "             param_grid={'C': [0.1, 1, 10, 100, 1000],\n",
       "                         'gamma': [1, 0.1, 0.01, 0.001, 0.0001],\n",
       "                         'kernel': ['rbf']},\n",
       "             verbose=3)"
      ]
     },
     "execution_count": 45,
     "metadata": {},
     "output_type": "execute_result"
    }
   ],
   "source": [
    "grid.fit(X_train, y_train)"
   ]
  },
  {
   "cell_type": "code",
   "execution_count": 46,
   "id": "69d42e9a",
   "metadata": {},
   "outputs": [
    {
     "data": {
      "text/plain": [
       "{'C': 100, 'gamma': 0.1, 'kernel': 'rbf'}"
      ]
     },
     "execution_count": 46,
     "metadata": {},
     "output_type": "execute_result"
    }
   ],
   "source": [
    "grid.best_params_"
   ]
  },
  {
   "cell_type": "code",
   "execution_count": 47,
   "id": "bab89449",
   "metadata": {},
   "outputs": [
    {
     "data": {
      "text/plain": [
       "SVC(C=100, gamma=0.1)"
      ]
     },
     "execution_count": 47,
     "metadata": {},
     "output_type": "execute_result"
    }
   ],
   "source": [
    "grid.best_estimator_"
   ]
  },
  {
   "cell_type": "code",
   "execution_count": 48,
   "id": "7ffba8a3",
   "metadata": {},
   "outputs": [],
   "source": [
    "clf_svc=SVC(C=100,gamma=0.1,kernel='rbf')"
   ]
  },
  {
   "cell_type": "code",
   "execution_count": 49,
   "id": "1c9a648d",
   "metadata": {},
   "outputs": [
    {
     "data": {
      "text/plain": [
       "SVC(C=100, gamma=0.1)"
      ]
     },
     "execution_count": 49,
     "metadata": {},
     "output_type": "execute_result"
    }
   ],
   "source": [
    "clf_svc.fit(X_train,y_train)"
   ]
  },
  {
   "cell_type": "code",
   "execution_count": 50,
   "id": "d7d7a16f",
   "metadata": {},
   "outputs": [],
   "source": [
    "y_train_pred=clf_svc.predict(X_train)"
   ]
  },
  {
   "cell_type": "code",
   "execution_count": 51,
   "id": "2c0c27a9",
   "metadata": {},
   "outputs": [],
   "source": [
    "y_test_pred=clf_svc.predict(X_test)"
   ]
  },
  {
   "cell_type": "markdown",
   "id": "1b44bb2e",
   "metadata": {},
   "source": [
    "## Model Evaluation"
   ]
  },
  {
   "cell_type": "code",
   "execution_count": 54,
   "id": "0ecd89e2",
   "metadata": {},
   "outputs": [
    {
     "data": {
      "text/plain": [
       "<AxesSubplot:>"
      ]
     },
     "execution_count": 54,
     "metadata": {},
     "output_type": "execute_result"
    },
    {
     "data": {
      "image/png": "[encoded data removed]",
      "text/plain": [
       "<Figure size 432x288 with 2 Axes>"
      ]
     },
     "metadata": {
      "needs_background": "light"
     },
     "output_type": "display_data"
    }
   ],
   "source": [
    "from sklearn.metrics import confusion_matrix\n",
    "import seaborn as sns\n",
    "cm=confusion_matrix(y_train, y_train_pred)\n",
    "sns.heatmap(cm, annot=True, cmap='Blues', fmt='g')"
   ]
  },
  {
   "cell_type": "code",
   "execution_count": 55,
   "id": "1fe73c16",
   "metadata": {},
   "outputs": [
    {
     "data": {
      "text/plain": [
       "<AxesSubplot:>"
      ]
     },
     "execution_count": 55,
     "metadata": {},
     "output_type": "execute_result"
    },
    {
     "data": {
      "image/png": "[encoded data removed]",
      "text/plain": [
       "<Figure size 432x288 with 2 Axes>"
      ]
     },
     "metadata": {
      "needs_background": "light"
     },
     "output_type": "display_data"
    }
   ],
   "source": [
    "import seaborn as sns\n",
    "from sklearn.metrics import confusion_matrix\n",
    "cm=confusion_matrix(y_test, y_test_pred)\n",
    "sns.heatmap(cm, annot=True, cmap='Blues', fmt='g')"
   ]
  },
  {
   "cell_type": "code",
   "execution_count": 56,
   "id": "f9345b46",
   "metadata": {},
   "outputs": [
    {
     "name": "stdout",
     "output_type": "stream",
     "text": [
      "              precision    recall  f1-score   support\n",
      "\n",
      "           0       0.83      0.80      0.82       125\n",
      "           1       0.81      0.84      0.82       125\n",
      "\n",
      "    accuracy                           0.82       250\n",
      "   macro avg       0.82      0.82      0.82       250\n",
      "weighted avg       0.82      0.82      0.82       250\n",
      "\n"
     ]
    }
   ],
   "source": [
    "from sklearn.metrics import classification_report\n",
    "print(classification_report(y_test, y_test_pred))"
   ]
  },
  {
   "cell_type": "markdown",
   "id": "ae81276b",
   "metadata": {},
   "source": [
    "## K-Nearest Neighbor"
   ]
  },
  {
   "cell_type": "code",
   "execution_count": 57,
   "id": "c4a24b7b",
   "metadata": {},
   "outputs": [],
   "source": [
    "from sklearn.neighbors import KNeighborsClassifier\n",
    "from sklearn.model_selection import GridSearchCV"
   ]
  },
  {
   "cell_type": "code",
   "execution_count": 58,
   "id": "7ab42559",
   "metadata": {},
   "outputs": [],
   "source": [
    "k_range = list(range(1, 31))\n",
    "param_grid = dict(n_neighbors=k_range)"
   ]
  },
  {
   "cell_type": "code",
   "execution_count": 60,
   "id": "c682c545",
   "metadata": {},
   "outputs": [],
   "source": [
    "knn = KNeighborsClassifier()\n",
    "grid = GridSearchCV(knn, param_grid, cv=10, scoring='accuracy', return_train_score=False,verbose=1)"
   ]
  },
  {
   "cell_type": "code",
   "execution_count": 62,
   "id": "709e31fa",
   "metadata": {},
   "outputs": [
    {
     "name": "stdout",
     "output_type": "stream",
     "text": [
      "Fitting 10 folds for each of 30 candidates, totalling 300 fits\n"
     ]
    }
   ],
   "source": [
    "grid_search=grid.fit(X_train, y_train)"
   ]
  },
  {
   "cell_type": "code",
   "execution_count": 63,
   "id": "81f3ab15",
   "metadata": {},
   "outputs": [
    {
     "data": {
      "text/plain": [
       "{'mean_fit_time': array([0.00159719, 0.00156648, 0.        , 0.00157313, 0.00155587,\n",
       "        0.00312715, 0.        , 0.00156319, 0.00316119, 0.00155683,\n",
       "        0.00156379, 0.0016685 , 0.        , 0.00156889, 0.        ,\n",
       "        0.00173273, 0.        , 0.00468798, 0.00156145, 0.00355909,\n",
       "        0.00312533, 0.0016052 , 0.00080042, 0.        , 0.00047922,\n",
       "        0.00155635, 0.        , 0.00160155, 0.00156212, 0.00312452]),\n",
       " 'std_fit_time': array([0.0031944 , 0.00469944, 0.        , 0.0047194 , 0.00466762,\n",
       "        0.00625431, 0.        , 0.00468957, 0.00632301, 0.00467048,\n",
       "        0.00469136, 0.00466609, 0.        , 0.00470667, 0.        ,\n",
       "        0.00468916, 0.        , 0.00716102, 0.00468435, 0.00618356,\n",
       "        0.00625067, 0.00321045, 0.00240126, 0.        , 0.00143766,\n",
       "        0.00466905, 0.        , 0.00480466, 0.00468636, 0.00624905]),\n",
       " 'mean_score_time': array([0.00755851, 0.00633883, 0.00863347, 0.00601444, 0.00784249,\n",
       "        0.00489271, 0.00737331, 0.00627761, 0.00434506, 0.0078445 ,\n",
       "        0.00471902, 0.0058934 , 0.00745664, 0.00727379, 0.00739157,\n",
       "        0.00728364, 0.00748358, 0.00156257, 0.00625091, 0.00408049,\n",
       "        0.00468392, 0.00635934, 0.00671425, 0.01094568, 0.00718052,\n",
       "        0.00780833, 0.00901947, 0.00488088, 0.0062789 , 0.00432224]),\n",
       " 'std_score_time': array([0.00737204, 0.00776454, 0.00540215, 0.00981185, 0.00784277,\n",
       "        0.0074761 , 0.00664352, 0.00768868, 0.00581784, 0.00784483,\n",
       "        0.00720856, 0.00645483, 0.00668573, 0.00763521, 0.00712755,\n",
       "        0.00670467, 0.00742737, 0.00468771, 0.00765577, 0.00553821,\n",
       "        0.00715481, 0.00779436, 0.00749983, 0.00716579, 0.00661577,\n",
       "        0.00780842, 0.007739  , 0.00649103, 0.00769037, 0.00560949]),\n",
       " 'param_n_neighbors': masked_array(data=[1, 2, 3, 4, 5, 6, 7, 8, 9, 10, 11, 12, 13, 14, 15, 16,\n",
       "                    17, 18, 19, 20, 21, 22, 23, 24, 25, 26, 27, 28, 29, 30],\n",
       "              mask=[False, False, False, False, False, False, False, False,\n",
       "                    False, False, False, False, False, False, False, False,\n",
       "                    False, False, False, False, False, False, False, False,\n",
       "                    False, False, False, False, False, False],\n",
       "        fill_value='?',\n",
       "             dtype=object),\n",
       " 'params': [{'n_neighbors': 1},\n",
       "  {'n_neighbors': 2},\n",
       "  {'n_neighbors': 3},\n",
       "  {'n_neighbors': 4},\n",
       "  {'n_neighbors': 5},\n",
       "  {'n_neighbors': 6},\n",
       "  {'n_neighbors': 7},\n",
       "  {'n_neighbors': 8},\n",
       "  {'n_neighbors': 9},\n",
       "  {'n_neighbors': 10},\n",
       "  {'n_neighbors': 11},\n",
       "  {'n_neighbors': 12},\n",
       "  {'n_neighbors': 13},\n",
       "  {'n_neighbors': 14},\n",
       "  {'n_neighbors': 15},\n",
       "  {'n_neighbors': 16},\n",
       "  {'n_neighbors': 17},\n",
       "  {'n_neighbors': 18},\n",
       "  {'n_neighbors': 19},\n",
       "  {'n_neighbors': 20},\n",
       "  {'n_neighbors': 21},\n",
       "  {'n_neighbors': 22},\n",
       "  {'n_neighbors': 23},\n",
       "  {'n_neighbors': 24},\n",
       "  {'n_neighbors': 25},\n",
       "  {'n_neighbors': 26},\n",
       "  {'n_neighbors': 27},\n",
       "  {'n_neighbors': 28},\n",
       "  {'n_neighbors': 29},\n",
       "  {'n_neighbors': 30}],\n",
       " 'split0_test_score': array([0.56      , 0.66666667, 0.54666667, 0.54666667, 0.6       ,\n",
       "        0.54666667, 0.65333333, 0.57333333, 0.64      , 0.61333333,\n",
       "        0.65333333, 0.6       , 0.57333333, 0.6       , 0.61333333,\n",
       "        0.6       , 0.62666667, 0.65333333, 0.6       , 0.58666667,\n",
       "        0.58666667, 0.58666667, 0.61333333, 0.57333333, 0.6       ,\n",
       "        0.54666667, 0.52      , 0.56      , 0.57333333, 0.61333333]),\n",
       " 'split1_test_score': array([0.58666667, 0.53333333, 0.52      , 0.54666667, 0.52      ,\n",
       "        0.52      , 0.52      , 0.54666667, 0.53333333, 0.62666667,\n",
       "        0.56      , 0.58666667, 0.56      , 0.56      , 0.54666667,\n",
       "        0.6       , 0.53333333, 0.56      , 0.56      , 0.58666667,\n",
       "        0.54666667, 0.56      , 0.56      , 0.6       , 0.54666667,\n",
       "        0.61333333, 0.56      , 0.58666667, 0.53333333, 0.56      ]),\n",
       " 'split2_test_score': array([0.6       , 0.64      , 0.72      , 0.66666667, 0.72      ,\n",
       "        0.69333333, 0.76      , 0.76      , 0.73333333, 0.74666667,\n",
       "        0.76      , 0.77333333, 0.76      , 0.76      , 0.73333333,\n",
       "        0.70666667, 0.68      , 0.68      , 0.70666667, 0.74666667,\n",
       "        0.68      , 0.73333333, 0.69333333, 0.73333333, 0.70666667,\n",
       "        0.72      , 0.69333333, 0.72      , 0.69333333, 0.74666667]),\n",
       " 'split3_test_score': array([0.53333333, 0.50666667, 0.58666667, 0.62666667, 0.62666667,\n",
       "        0.72      , 0.65333333, 0.61333333, 0.6       , 0.69333333,\n",
       "        0.64      , 0.68      , 0.62666667, 0.61333333, 0.61333333,\n",
       "        0.64      , 0.62666667, 0.64      , 0.64      , 0.64      ,\n",
       "        0.66666667, 0.66666667, 0.65333333, 0.70666667, 0.66666667,\n",
       "        0.66666667, 0.65333333, 0.65333333, 0.66666667, 0.68      ]),\n",
       " 'split4_test_score': array([0.62666667, 0.58666667, 0.70666667, 0.64      , 0.68      ,\n",
       "        0.64      , 0.64      , 0.64      , 0.72      , 0.65333333,\n",
       "        0.66666667, 0.66666667, 0.69333333, 0.77333333, 0.74666667,\n",
       "        0.8       , 0.8       , 0.81333333, 0.78666667, 0.78666667,\n",
       "        0.8       , 0.74666667, 0.70666667, 0.70666667, 0.70666667,\n",
       "        0.70666667, 0.72      , 0.68      , 0.72      , 0.70666667]),\n",
       " 'split5_test_score': array([0.53333333, 0.50666667, 0.49333333, 0.52      , 0.56      ,\n",
       "        0.54666667, 0.66666667, 0.64      , 0.61333333, 0.65333333,\n",
       "        0.65333333, 0.68      , 0.65333333, 0.68      , 0.70666667,\n",
       "        0.66666667, 0.74666667, 0.70666667, 0.73333333, 0.73333333,\n",
       "        0.73333333, 0.76      , 0.74666667, 0.73333333, 0.72      ,\n",
       "        0.69333333, 0.70666667, 0.73333333, 0.73333333, 0.76      ]),\n",
       " 'split6_test_score': array([0.58666667, 0.56      , 0.6       , 0.58666667, 0.65333333,\n",
       "        0.69333333, 0.72      , 0.66666667, 0.62666667, 0.64      ,\n",
       "        0.64      , 0.61333333, 0.68      , 0.66666667, 0.65333333,\n",
       "        0.72      , 0.73333333, 0.70666667, 0.69333333, 0.64      ,\n",
       "        0.65333333, 0.58666667, 0.65333333, 0.62666667, 0.66666667,\n",
       "        0.66666667, 0.66666667, 0.66666667, 0.70666667, 0.68      ]),\n",
       " 'split7_test_score': array([0.53333333, 0.52      , 0.56      , 0.61333333, 0.50666667,\n",
       "        0.58666667, 0.54666667, 0.58666667, 0.58666667, 0.6       ,\n",
       "        0.57333333, 0.62666667, 0.64      , 0.64      , 0.64      ,\n",
       "        0.65333333, 0.65333333, 0.66666667, 0.65333333, 0.68      ,\n",
       "        0.65333333, 0.65333333, 0.65333333, 0.66666667, 0.65333333,\n",
       "        0.64      , 0.66666667, 0.66666667, 0.66666667, 0.68      ]),\n",
       " 'split8_test_score': array([0.65333333, 0.69333333, 0.64      , 0.64      , 0.65333333,\n",
       "        0.72      , 0.56      , 0.72      , 0.62666667, 0.70666667,\n",
       "        0.62666667, 0.70666667, 0.68      , 0.72      , 0.73333333,\n",
       "        0.76      , 0.73333333, 0.74666667, 0.70666667, 0.73333333,\n",
       "        0.69333333, 0.74666667, 0.73333333, 0.72      , 0.70666667,\n",
       "        0.68      , 0.70666667, 0.76      , 0.73333333, 0.73333333]),\n",
       " 'split9_test_score': array([0.64      , 0.58666667, 0.61333333, 0.61333333, 0.69333333,\n",
       "        0.57333333, 0.66666667, 0.61333333, 0.72      , 0.72      ,\n",
       "        0.68      , 0.68      , 0.69333333, 0.68      , 0.64      ,\n",
       "        0.68      , 0.70666667, 0.70666667, 0.65333333, 0.70666667,\n",
       "        0.69333333, 0.74666667, 0.73333333, 0.74666667, 0.73333333,\n",
       "        0.74666667, 0.74666667, 0.69333333, 0.69333333, 0.72      ]),\n",
       " 'mean_test_score': array([0.58533333, 0.58      , 0.59866667, 0.6       , 0.62133333,\n",
       "        0.624     , 0.63866667, 0.636     , 0.64      , 0.66533333,\n",
       "        0.64533333, 0.66133333, 0.656     , 0.66933333, 0.66266667,\n",
       "        0.68266667, 0.684     , 0.688     , 0.67333333, 0.684     ,\n",
       "        0.67066667, 0.67866667, 0.67466667, 0.68133333, 0.67066667,\n",
       "        0.668     , 0.664     , 0.672     , 0.672     , 0.688     ]),\n",
       " 'std_test_score': array([0.04277071, 0.06401389, 0.07066667, 0.0458015 , 0.06933333,\n",
       "        0.07418895, 0.07216032, 0.06226824, 0.06196773, 0.0463609 ,\n",
       "        0.05272992, 0.05339996, 0.05650565, 0.06526527, 0.06198208,\n",
       "        0.06191033, 0.07279805, 0.06372162, 0.0626099 , 0.06533333,\n",
       "        0.06694608, 0.07434454, 0.05631657, 0.05825614, 0.05563372,\n",
       "        0.0544712 , 0.06793461, 0.05878775, 0.064     , 0.05848457]),\n",
       " 'rank_test_score': array([29, 30, 28, 27, 26, 25, 23, 24, 22, 16, 21, 19, 20, 14, 18,  5,  3,\n",
       "         1,  9,  3, 12,  7,  8,  6, 13, 15, 17, 10, 10,  1])}"
      ]
     },
     "execution_count": 63,
     "metadata": {},
     "output_type": "execute_result"
    }
   ],
   "source": [
    "grid_search.cv_results_"
   ]
  },
  {
   "cell_type": "code",
   "execution_count": 64,
   "id": "547a2a71",
   "metadata": {},
   "outputs": [
    {
     "data": {
      "text/plain": [
       "{'n_neighbors': 18}"
      ]
     },
     "execution_count": 64,
     "metadata": {},
     "output_type": "execute_result"
    }
   ],
   "source": [
    "grid_search.best_params_"
   ]
  },
  {
   "cell_type": "code",
   "execution_count": 65,
   "id": "4919e6b7",
   "metadata": {},
   "outputs": [],
   "source": [
    "clf_knn=KNeighborsClassifier(n_neighbors=18)"
   ]
  },
  {
   "cell_type": "code",
   "execution_count": 66,
   "id": "37774969",
   "metadata": {},
   "outputs": [
    {
     "data": {
      "text/plain": [
       "KNeighborsClassifier(n_neighbors=18)"
      ]
     },
     "execution_count": 66,
     "metadata": {},
     "output_type": "execute_result"
    }
   ],
   "source": [
    "clf_knn.fit(X_train, y_train)"
   ]
  },
  {
   "cell_type": "code",
   "execution_count": 67,
   "id": "91232ebb",
   "metadata": {},
   "outputs": [],
   "source": [
    "y_train_pred=clf_knn.predict(X_train)"
   ]
  },
  {
   "cell_type": "code",
   "execution_count": 68,
   "id": "eff28112",
   "metadata": {},
   "outputs": [],
   "source": [
    "y_test_pred=clf_knn.predict(X_test)"
   ]
  },
  {
   "cell_type": "markdown",
   "id": "e8e394c7",
   "metadata": {},
   "source": [
    "## Model Evalution"
   ]
  },
  {
   "cell_type": "code",
   "execution_count": 69,
   "id": "d90f22c4",
   "metadata": {},
   "outputs": [
    {
     "data": {
      "text/plain": [
       "<AxesSubplot:>"
      ]
     },
     "execution_count": 69,
     "metadata": {},
     "output_type": "execute_result"
    },
    {
     "data": {
      "image/png": "[encoded data removed]",
      "text/plain": [
       "<Figure size 432x288 with 2 Axes>"
      ]
     },
     "metadata": {
      "needs_background": "light"
     },
     "output_type": "display_data"
    }
   ],
   "source": [
    "from sklearn.metrics import confusion_matrix\n",
    "import seaborn as sns\n",
    "cm=confusion_matrix(y_train, y_train_pred)\n",
    "sns.heatmap(cm, annot=True, cmap='Blues', fmt='g')"
   ]
  },
  {
   "cell_type": "code",
   "execution_count": 70,
   "id": "2fab434f",
   "metadata": {},
   "outputs": [
    {
     "data": {
      "text/plain": [
       "<AxesSubplot:>"
      ]
     },
     "execution_count": 70,
     "metadata": {},
     "output_type": "execute_result"
    },
    {
     "data": {
      "image/png": "[encoded data removed]",
      "text/plain": [
       "<Figure size 432x288 with 2 Axes>"
      ]
     },
     "metadata": {
      "needs_background": "light"
     },
     "output_type": "display_data"
    }
   ],
   "source": [
    "import seaborn as sns\n",
    "from sklearn.metrics import confusion_matrix\n",
    "cm=confusion_matrix(y_test, y_test_pred)\n",
    "sns.heatmap(cm, annot=True, cmap='Blues', fmt='g')"
   ]
  },
  {
   "cell_type": "code",
   "execution_count": 71,
   "id": "d6208e09",
   "metadata": {},
   "outputs": [
    {
     "name": "stdout",
     "output_type": "stream",
     "text": [
      "              precision    recall  f1-score   support\n",
      "\n",
      "           0       0.67      0.67      0.67       125\n",
      "           1       0.67      0.66      0.67       125\n",
      "\n",
      "    accuracy                           0.67       250\n",
      "   macro avg       0.67      0.67      0.67       250\n",
      "weighted avg       0.67      0.67      0.67       250\n",
      "\n"
     ]
    }
   ],
   "source": [
    "from sklearn.metrics import classification_report\n",
    "print(classification_report(y_test, y_test_pred))"
   ]
  },
  {
   "cell_type": "markdown",
   "id": "2fb4ece8",
   "metadata": {},
   "source": [
    "## Logistic Regression"
   ]
  },
  {
   "cell_type": "code",
   "execution_count": 72,
   "id": "600f1898",
   "metadata": {},
   "outputs": [],
   "source": [
    "from sklearn.linear_model import LogisticRegression\n",
    "from sklearn.model_selection import GridSearchCV"
   ]
  },
  {
   "cell_type": "code",
   "execution_count": 74,
   "id": "bb88b274",
   "metadata": {},
   "outputs": [],
   "source": [
    "param_grid = {'C': [0.001, 0.01, 0.1, 1, 10, 100, 1000] }\n",
    "clf = GridSearchCV(LogisticRegression(penalty='l2'), param_grid)\n"
   ]
  },
  {
   "cell_type": "code",
   "execution_count": 75,
   "id": "59e4592e",
   "metadata": {},
   "outputs": [
    {
     "data": {
      "text/plain": [
       "GridSearchCV(estimator=LogisticRegression(),\n",
       "             param_grid={'C': [0.001, 0.01, 0.1, 1, 10, 100, 1000]})"
      ]
     },
     "execution_count": 75,
     "metadata": {},
     "output_type": "execute_result"
    }
   ],
   "source": [
    "clf.fit(X_train,y_train)"
   ]
  },
  {
   "cell_type": "code",
   "execution_count": 76,
   "id": "26268afc",
   "metadata": {},
   "outputs": [
    {
     "data": {
      "text/plain": [
       "LogisticRegression(C=100)"
      ]
     },
     "execution_count": 76,
     "metadata": {},
     "output_type": "execute_result"
    }
   ],
   "source": [
    "clf.best_estimator_\n"
   ]
  },
  {
   "cell_type": "code",
   "execution_count": 77,
   "id": "9850ba36",
   "metadata": {},
   "outputs": [],
   "source": [
    "clf_lr=LogisticRegression(C=100)"
   ]
  },
  {
   "cell_type": "code",
   "execution_count": 78,
   "id": "051e3a3b",
   "metadata": {},
   "outputs": [
    {
     "data": {
      "text/plain": [
       "LogisticRegression(C=100)"
      ]
     },
     "execution_count": 78,
     "metadata": {},
     "output_type": "execute_result"
    }
   ],
   "source": [
    "clf_lr.fit(X_train,y_train)"
   ]
  },
  {
   "cell_type": "code",
   "execution_count": 79,
   "id": "f3ddbc18",
   "metadata": {},
   "outputs": [],
   "source": [
    "y_train_pred=rf.predict(X_train)"
   ]
  },
  {
   "cell_type": "code",
   "execution_count": 80,
   "id": "58a9ed32",
   "metadata": {},
   "outputs": [],
   "source": [
    "y_test_pred=rf.predict(X_test)"
   ]
  },
  {
   "cell_type": "markdown",
   "id": "7c09fb68",
   "metadata": {},
   "source": [
    "## Model Evaluation"
   ]
  },
  {
   "cell_type": "code",
   "execution_count": 81,
   "id": "0cd3086e",
   "metadata": {},
   "outputs": [
    {
     "data": {
      "text/plain": [
       "<AxesSubplot:>"
      ]
     },
     "execution_count": 81,
     "metadata": {},
     "output_type": "execute_result"
    },
    {
     "data": {
      "image/png": "[encoded data removed]",
      "text/plain": [
       "<Figure size 432x288 with 2 Axes>"
      ]
     },
     "metadata": {
      "needs_background": "light"
     },
     "output_type": "display_data"
    }
   ],
   "source": [
    "from sklearn.metrics import confusion_matrix\n",
    "import seaborn as sns\n",
    "cm=confusion_matrix(y_train, y_train_pred)\n",
    "sns.heatmap(cm, annot=True, cmap='Blues', fmt='g')"
   ]
  },
  {
   "cell_type": "code",
   "execution_count": 82,
   "id": "b79409e5",
   "metadata": {},
   "outputs": [
    {
     "data": {
      "text/plain": [
       "<AxesSubplot:>"
      ]
     },
     "execution_count": 82,
     "metadata": {},
     "output_type": "execute_result"
    },
    {
     "data": {
      "image/png": "[encoded data removed]",
      "text/plain": [
       "<Figure size 432x288 with 2 Axes>"
      ]
     },
     "metadata": {
      "needs_background": "light"
     },
     "output_type": "display_data"
    }
   ],
   "source": [
    "import seaborn as sns\n",
    "from sklearn.metrics import confusion_matrix\n",
    "cm=confusion_matrix(y_test, y_test_pred)\n",
    "sns.heatmap(cm, annot=True, cmap='Blues', fmt='g')"
   ]
  },
  {
   "cell_type": "code",
   "execution_count": 83,
   "id": "feb5d9d7",
   "metadata": {},
   "outputs": [
    {
     "name": "stdout",
     "output_type": "stream",
     "text": [
      "              precision    recall  f1-score   support\n",
      "\n",
      "           0       0.83      0.86      0.84       125\n",
      "           1       0.85      0.82      0.84       125\n",
      "\n",
      "    accuracy                           0.84       250\n",
      "   macro avg       0.84      0.84      0.84       250\n",
      "weighted avg       0.84      0.84      0.84       250\n",
      "\n"
     ]
    }
   ],
   "source": [
    "from sklearn.metrics import classification_report\n",
    "print(classification_report(y_test, y_test_pred))"
   ]
  },
  {
   "cell_type": "code",
   "execution_count": null,
   "id": "5bf3b65b",
   "metadata": {},
   "outputs": [],
   "source": []
  }
 ],
 "metadata": {
  "kernelspec": {
   "display_name": "Python 3",
   "language": "python",
   "name": "python3"
  },
  "language_info": {
   "codemirror_mode": {
    "name": "ipython",
    "version": 3
   },
   "file_extension": ".py",
   "mimetype": "text/x-python",
   "name": "python",
   "nbconvert_exporter": "python",
   "pygments_lexer": "ipython3",
   "version": "3.8.8"
  }
 },
 "nbformat": 4,
 "nbformat_minor": 5
}
